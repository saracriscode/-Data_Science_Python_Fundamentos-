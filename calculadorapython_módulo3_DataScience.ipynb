{
  "nbformat": 4,
  "nbformat_minor": 0,
  "metadata": {
    "colab": {
      "name": "calculadorapython_módulo3_DataScience.ipynb",
      "provenance": [],
      "collapsed_sections": [],
      "authorship_tag": "ABX9TyP2sIjqsfMGU1TuvCNufNBp",
      "include_colab_link": true
    },
    "kernelspec": {
      "name": "python3",
      "display_name": "Python 3"
    },
    "language_info": {
      "name": "python"
    }
  },
  "cells": [
    {
      "cell_type": "markdown",
      "metadata": {
        "id": "view-in-github",
        "colab_type": "text"
      },
      "source": [
        "<a href=\"https://colab.research.google.com/github/saracriscode/-Data_Science_Python_Fundamentos-/blob/main/calculadorapython_m%C3%B3dulo3_DataScience.ipynb\" target=\"_parent\"><img src=\"https://colab.research.google.com/assets/colab-badge.svg\" alt=\"Open In Colab\"/></a>"
      ]
    },
    {
      "cell_type": "markdown",
      "metadata": {
        "id": "J86AbpJ1Lnga"
      },
      "source": [
        "Criar uma calculadora Python que precisa conter as quatro operações matemáticas (soma, subtração, divisão e multiplicação). Depois de criar esse objeto é necessário criar inputs para as pessoas escolherem a opção matemática para calcular o valor e retornar o resultado final (output)"
      ]
    },
    {
      "cell_type": "code",
      "metadata": {
        "id": "JiQD_N2mMFvN"
      },
      "source": [
        "import pandas as pd\n"
      ],
      "execution_count": null,
      "outputs": []
    },
    {
      "cell_type": "code",
      "metadata": {
        "id": "LeIXvA0GMr8J",
        "colab": {
          "base_uri": "https://localhost:8080/"
        },
        "outputId": "45b4e40e-6cf3-4d0d-835c-b35dbf64699f"
      },
      "source": [
        "#Passo 1) Criar quatro funções para as operações matemáticas a fim de construir uma calculadora\n",
        "\n",
        "print(\"\\n*********************** Python Calculator ***********************\")\n",
        "\n",
        "def add(x, y):  #A função def, determina as funções de operações básicas de soma, subtração, multiplicação e divisão\n",
        "  return x + y\n",
        "\n",
        "def subtract(x,y):\n",
        "  return x - y\n",
        "\n",
        "def multiply(x, y):\n",
        "  return x * y\n",
        "\n",
        "def divide(x, y):\n",
        "  return x/y\n",
        "\n",
        "  \n"
      ],
      "execution_count": null,
      "outputs": [
        {
          "output_type": "stream",
          "name": "stdout",
          "text": [
            "\n",
            "*********************** Python Calculator ***********************\n"
          ]
        }
      ]
    },
    {
      "cell_type": "code",
      "metadata": {
        "id": "0vaRTHSkRZ9R",
        "colab": {
          "base_uri": "https://localhost:8080/"
        },
        "outputId": "cda4c4a9-a431-49bd-dc5e-9f1db7521b42"
      },
      "source": [
        "#Passo 2: Imprimir na tela as opções e valores escolhidas pelo usuário\n",
        "\n",
        "print(\"\\nSelecione o número da operação desejada: \\n\")\n",
        "print(\"1- Soma\")\n",
        "print(\"2 - Subtração\")\n",
        "print(\"3 - Multiplicação\")\n",
        "print(\"4 - Divisão\")"
      ],
      "execution_count": null,
      "outputs": [
        {
          "output_type": "stream",
          "name": "stdout",
          "text": [
            "\n",
            "Selecione o número da operação desejada: \n",
            "\n",
            "1- Soma\n",
            "2 - Subtração\n",
            "3 - Multiplicação\n",
            "4 - Divisão\n"
          ]
        }
      ]
    },
    {
      "cell_type": "code",
      "metadata": {
        "colab": {
          "base_uri": "https://localhost:8080/"
        },
        "id": "ALwXH2ehW2qA",
        "outputId": "63ffffec-630a-470c-eb41-a89eeb39affa"
      },
      "source": [
        "#Passo 3: Criar um objeto e inserir os inputs (entradas) e outputs(saídas)\n",
        " \n",
        "escolha = input(\"\\nDigite sua opção 1/ 2/3/4): \")\n",
        "\n",
        "num1 = int(input(\"\\nDigite o primeiro número: \"))\n",
        "num2 = int(input(\"\\nDigite o segundo número: \"))\n",
        "\n",
        "\n",
        "if escolha == '1':\n",
        "   print(\"\\n\")\n",
        "   print(num1, \"+\", num2, \"=\", add(num1, num2))\n",
        "   print(\"\\n\")\n",
        "\n",
        "elif escolha == '2':\n",
        "   print(\"\\n\")\n",
        "   print(num1, \"+\", num2, \"=\", subtract(num1, num2))\n",
        "   print(\"\\n\")\n",
        "\n",
        "elif escolha == '3':\n",
        "   print(\"\\n\")\n",
        "   print(num1, \"+\", num2, \"=\",  multiply(num1, num2))\n",
        "   print(\"\\n\")\n",
        "\n",
        "elif escolha == '4':\n",
        "   print(\"\\n\")\n",
        "   print(num1, \"+\", num2, \"=\",  divide(num1, num2))\n",
        "   print(\"\\n\")\n",
        "\n",
        "else:\n",
        "  print(\"\\nOpção Inválida!\")"
      ],
      "execution_count": null,
      "outputs": [
        {
          "output_type": "stream",
          "name": "stdout",
          "text": [
            "\n",
            "Digite sua opção 1/ 2/3/4): 1\n",
            "\n",
            "Digite o primeiro número: 5\n",
            "\n",
            "Digite o segundo número: 10\n",
            "\n",
            "\n",
            "5 + 10 = 15\n",
            "\n",
            "\n"
          ]
        }
      ]
    },
    {
      "cell_type": "code",
      "metadata": {
        "id": "x68CKivDWwBR"
      },
      "source": [
        ""
      ],
      "execution_count": null,
      "outputs": []
    }
  ]
}